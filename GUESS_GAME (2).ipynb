{
  "nbformat": 4,
  "nbformat_minor": 0,
  "metadata": {
    "colab": {
      "name": "GUESS_GAME.ipynb",
      "provenance": []
    },
    "kernelspec": {
      "name": "python3",
      "display_name": "Python 3"
    },
    "language_info": {
      "name": "python"
    }
  },
  "cells": [
    {
      "cell_type": "code",
      "source": [
        "import random\n",
        "number = random.randint(1, 10)\n",
        "\n",
        "player_name = input(\"Hello, What's your name? \")\n",
        "number_of_guesses = 0\n",
        "print('Okay! '+ player_name+ ' WELCOME TO NUMBER GUESSING GAME ')\n",
        "print('In this game, you have 10 tries to guess a number between 1 and 100 and if you guess it in ten tries, you win ')\n",
        "while number_of_guesses < 10:\n",
        "    guess = int(input('GUESS THE NUMBER BETWEEN 1 TO 100: '))\n",
        "    number_of_guesses += 1\n",
        "    if guess < number:\n",
        "        print('Your guess is too low')\n",
        "    if guess > number:\n",
        "        print('Your guess is too high')\n",
        "    if guess == number:\n",
        "        break\n",
        "if guess == number:\n",
        "    print(\"Congratulations ! You have guessed it right\")\n",
        "    print('You guessed the number in ' + str(number_of_guesses) + ' tries!')\n",
        "else:\n",
        "    print('You did not guess the number, The number was ' + str(number))"
      ],
      "metadata": {
        "colab": {
          "base_uri": "https://localhost:8080/"
        },
        "id": "vVbTdXp36UJK",
        "outputId": "1b5651b6-ed3b-48bc-f01f-dd47da8366c3"
      },
      "execution_count": 3,
      "outputs": [
        {
          "output_type": "stream",
          "name": "stdout",
          "text": [
            "Hello, What's your name? Rohit\n",
            "Okay! Rohit WELCOME TO NUMBER GUESSING GAME \n",
            "In this game, you have 10 tries to guess a number between 1 and 100 and if you guess it in ten tries, you win \n",
            "GUESS THE NUMBER BETWEEN 1 TO 100: 40\n",
            "Your guess is too high\n",
            "GUESS THE NUMBER BETWEEN 1 TO 100: 30\n",
            "Your guess is too high\n",
            "GUESS THE NUMBER BETWEEN 1 TO 100: 20\n",
            "Your guess is too high\n",
            "GUESS THE NUMBER BETWEEN 1 TO 100: 10\n",
            "Your guess is too high\n",
            "GUESS THE NUMBER BETWEEN 1 TO 100: 5\n",
            "Your guess is too high\n",
            "GUESS THE NUMBER BETWEEN 1 TO 100: 3\n",
            "Your guess is too high\n",
            "GUESS THE NUMBER BETWEEN 1 TO 100: 2\n",
            "Your guess is too high\n",
            "GUESS THE NUMBER BETWEEN 1 TO 100: 1\n",
            "Congratulations ! You have guessed it right\n",
            "You guessed the number in 8 tries!\n"
          ]
        }
      ]
    },
    {
      "cell_type": "code",
      "source": [
        ""
      ],
      "metadata": {
        "id": "XpgKHc8m6ZSd"
      },
      "execution_count": null,
      "outputs": []
    }
  ]
}